{
 "cells": [
  {
   "cell_type": "markdown",
   "metadata": {},
   "source": [
    "# 1. Intro"
   ]
  },
  {
   "cell_type": "markdown",
   "metadata": {},
   "source": [
    "### 本节覆盖内容：\n",
    "- 如何构建不同类型图（有向图、无向图、加权图、无权图、二部图、完全图、多重图）\n",
    "- 给图添加数据（点 边、属性）\n",
    "- 删除图上数据（点 边、属性）\n",
    "- 绘制不同图\n",
    "- 查看图上基本信息（节点，边、属性、节点数、边数）\n",
    "- 将数据保存（邻接矩阵、邻接列表、边列表）\n",
    "\n"
   ]
  },
  {
   "cell_type": "code",
   "execution_count": 1,
   "metadata": {},
   "outputs": [],
   "source": [
    "import matplotlib\n",
    "import matplotlib.pyplot as plt\n",
    "%matplotlib inline\n",
    "\n",
    "import networkx as nx\n",
    "# networkx==2.3"
   ]
  },
  {
   "cell_type": "markdown",
   "metadata": {},
   "source": [
    "### 不同类型的图"
   ]
  },
  {
   "cell_type": "markdown",
   "metadata": {},
   "source": [
    "从课上，我们了解到图的集中分类。\n",
    "\n",
    "- 1. 根据边的方向\n",
    "    - 无向图，如：同事关系，论文合作关系\n",
    "    - 有向图，如：B站用户关注与被关注关系。\n",
    "\n",
    "- 2. 边是否有权重\n",
    "    - 无权图，权重为1\n",
    "    - 加权图\n",
    "\n",
    "\n",
    "- 3. 节点连接方式\n",
    "    - 二部图（Bipartite graph）：图可分为两类内部不相连的节点集。如：作者--论文图，电影--演员图\n",
    "    - 完全图（complete graph）。任意两点都有边相连\n",
    "    - 自环图（Self-edges (self-loops)）。自己与自己相连。邻居矩阵的对角线不为0.\n",
    "    - 多重图 （ Multigraph ）。存在两点之间大于一条边。\n",
    "在networkx 中可以很方便实现。"
   ]
  },
  {
   "cell_type": "code",
   "execution_count": 2,
   "metadata": {},
   "outputs": [],
   "source": [
    "# 无向图\n",
    "G1 = nx.Graph()  \n",
    "# 可权重（属性）（weighted graph）； 可Self loops (self-loops graph)；不可 multiple edges（ Multigraph ）"
   ]
  },
  {
   "cell_type": "code",
   "execution_count": 3,
   "metadata": {},
   "outputs": [],
   "source": [
    "# 有向图\n",
    "G2 = nx.DiGraph()\n",
    "# 可权重（属性）（weighted graph）； 可Self loops (self-loops graph)；不可 multiple edges（ Multigraph ）"
   ]
  },
  {
   "cell_type": "code",
   "execution_count": 4,
   "metadata": {},
   "outputs": [],
   "source": [
    "# 无向 多重图\n",
    "G3 = nx.MultiGraph() \n",
    "# 可权重（属性）（weighted graph）； 可Self loops (self-loops graph)；可 multiple edges（ Multigraph ）"
   ]
  },
  {
   "cell_type": "code",
   "execution_count": 5,
   "metadata": {},
   "outputs": [],
   "source": [
    "# 有向 多重图\n",
    "G4 = nx.MultiDiGraph()\n",
    "# 可权重（属性）（weighted graph）； 可Self loops (self-loops graph)；可 multiple edges（ Multigraph ）    "
   ]
  },
  {
   "cell_type": "markdown",
   "metadata": {},
   "source": [
    "### 给图添加数据"
   ]
  },
  {
   "cell_type": "markdown",
   "metadata": {},
   "source": [
    "上面都是空图，下面来导入数据看看"
   ]
  },
  {
   "cell_type": "code",
   "execution_count": 6,
   "metadata": {},
   "outputs": [],
   "source": [
    "def add_data_to_graph(G,plot=True):\n",
    "    # 添加节点\n",
    "    G.add_nodes_from([1,2,3,4])\n",
    "    # 一次加一条边\n",
    "    G.add_edge(2,3)\n",
    "    \n",
    "    # 一次加多条边\n",
    "    G.add_edges_from([(1,4),(2,5),(3,5),(3,5),(3,4),(1,5),(1,7),(1,7),(7,8)])\n",
    "    \n",
    "    # 添加带权重or属性的边\n",
    "    G.add_edges_from([(3, 8, {'weight': 3.1415,'age':18})])\n",
    "    \n",
    "    if plot:\n",
    "        # 默认networkx 是画不出 multigraph 不重叠的边的 \n",
    "        # nx.draw_shell(G, with_labels=True, font_weight='bold')\n",
    "        # 用于绘制 multigraph\n",
    "        plot_graph(G)\n",
    "    return G"
   ]
  },
  {
   "cell_type": "markdown",
   "metadata": {},
   "source": [
    "### 图的可视化"
   ]
  },
  {
   "cell_type": "code",
   "execution_count": 7,
   "metadata": {},
   "outputs": [],
   "source": [
    "def plot_graph(G,bipartite=False,bipartite_nodes=None):\n",
    "    \"\"\"\n",
    "    绘制网络图的函数\n",
    "    function refer:https://stackoverflow.com/questions/14943439/how-to-draw-multigraph-in-networkx-using-matplotlib-or-graphviz\n",
    "    params refer: https://networkx.org/documentation/stable/reference/drawing.html\n",
    "    \"\"\"\n",
    "    \n",
    "    pos = nx.kamada_kawai_layout(G)  if not bipartite else  nx.bipartite_layout(G,bipartite_nodes)\n",
    "    # 绘制节点\n",
    "    nx.draw_networkx_nodes(G, pos=pos, node_color = 'r', node_size = 200, alpha = 1)\n",
    "    # 绘制标签\n",
    "    nx.draw_networkx_labels(G,pos=pos)\n",
    "    ax = plt.gca()\n",
    "    for e in G.edges:\n",
    "        print(e)\n",
    "        edge_times = e[2] if len(e)==3 else 0\n",
    "        ax.annotate(\"\",\n",
    "                    xy=pos[e[0]], xycoords='data',\n",
    "                    xytext=pos[e[1]], textcoords='data',\n",
    "                    arrowprops=dict(arrowstyle=\"<-\", color=\"0.1\",\n",
    "                                    shrinkA=5, shrinkB=5,\n",
    "                                    patchA=None, patchB=None,\n",
    "                                    connectionstyle=\"arc3,rad=rrr\".replace('rrr',str(0.3*edge_times)\n",
    "                                    ),\n",
    "                                    ),\n",
    "                    )\n",
    "    plt.axis('off')\n",
    "    plt.show()"
   ]
  },
  {
   "cell_type": "code",
   "execution_count": 8,
   "metadata": {},
   "outputs": [
    {
     "name": "stdout",
     "output_type": "stream",
     "text": [
      "(1, 4)\n",
      "(1, 5)\n",
      "(1, 7)\n",
      "(2, 3)\n",
      "(2, 5)\n",
      "(3, 5)\n",
      "(3, 4)\n",
      "(3, 8)\n",
      "(7, 8)\n"
     ]
    },
    {
     "data": {
      "image/png": "[encoded data removed]",
      "text/plain": [
       "<Figure size 432x288 with 1 Axes>"
      ]
     },
     "metadata": {},
     "output_type": "display_data"
    }
   ],
   "source": [
    "# 无向图  G1 = nx.Graph()  对重复边进行过滤\n",
    "G1 = add_data_to_graph(G1)"
   ]
  },
  {
   "cell_type": "code",
   "execution_count": 9,
   "metadata": {},
   "outputs": [
    {
     "name": "stdout",
     "output_type": "stream",
     "text": [
      "(1, 4)\n",
      "(1, 5)\n",
      "(1, 7)\n",
      "(2, 3)\n",
      "(2, 5)\n",
      "(3, 5)\n",
      "(3, 4)\n",
      "(3, 8)\n",
      "(7, 8)\n"
     ]
    },
    {
     "data": {
      "image/png": "[encoded data removed]",
      "text/plain": [
       "<Figure size 432x288 with 1 Axes>"
      ]
     },
     "metadata": {},
     "output_type": "display_data"
    }
   ],
   "source": [
    "# 有向图  G2 = nx.DiGraph()  对重复边进行过滤\n",
    "G2 = add_data_to_graph(G2)"
   ]
  },
  {
   "cell_type": "code",
   "execution_count": 10,
   "metadata": {},
   "outputs": [
    {
     "name": "stdout",
     "output_type": "stream",
     "text": [
      "(1, 4, 0)\n",
      "(1, 5, 0)\n",
      "(1, 7, 0)\n",
      "(1, 7, 1)\n",
      "(2, 3, 0)\n",
      "(2, 5, 0)\n",
      "(3, 5, 0)\n",
      "(3, 5, 1)\n",
      "(3, 4, 0)\n",
      "(3, 8, 0)\n",
      "(7, 8, 0)\n"
     ]
    },
    {
     "data": {
      "image/png": "[encoded data removed]",
      "text/plain": [
       "<Figure size 432x288 with 1 Axes>"
      ]
     },
     "metadata": {},
     "output_type": "display_data"
    }
   ],
   "source": [
    "# 无向 多重图  G3 = nx.MultiGraph()  对重复边进行保留\n",
    "G3 = add_data_to_graph(G3)"
   ]
  },
  {
   "cell_type": "code",
   "execution_count": 11,
   "metadata": {
    "scrolled": false
   },
   "outputs": [
    {
     "name": "stdout",
     "output_type": "stream",
     "text": [
      "(1, 4, 0)\n",
      "(1, 5, 0)\n",
      "(1, 7, 0)\n",
      "(1, 7, 1)\n",
      "(2, 3, 0)\n",
      "(2, 5, 0)\n",
      "(3, 5, 0)\n",
      "(3, 5, 1)\n",
      "(3, 4, 0)\n",
      "(3, 8, 0)\n",
      "(7, 8, 0)\n"
     ]
    },
    {
     "data": {
      "image/png": "[encoded data removed]",
      "text/plain": [
       "<Figure size 432x288 with 1 Axes>"
      ]
     },
     "metadata": {},
     "output_type": "display_data"
    }
   ],
   "source": [
    "# 有向 多重图  G3 = nx.MultiDiGraph()  对边重复进行保留\n",
    "\n",
    "G4 = add_data_to_graph(G4)"
   ]
  },
  {
   "cell_type": "markdown",
   "metadata": {},
   "source": [
    "### 删除图上数据"
   ]
  },
  {
   "cell_type": "code",
   "execution_count": 12,
   "metadata": {},
   "outputs": [
    {
     "name": "stdout",
     "output_type": "stream",
     "text": [
      "(2, 3)\n",
      "(2, 5)\n",
      "(3, 5)\n",
      "(3, 8)\n"
     ]
    },
    {
     "data": {
      "image/png": "[encoded data removed]",
      "text/plain": [
       "<Figure size 432x288 with 1 Axes>"
      ]
     },
     "metadata": {},
     "output_type": "display_data"
    }
   ],
   "source": [
    "G2.remove_node(4)\n",
    "G2.remove_nodes_from([(2,8)])\n",
    "G2.remove_edge(1,7)\n",
    "G2.remove_edges_from([(1,5),(7,8)])\n",
    "plot_graph(G2)"
   ]
  },
  {
   "cell_type": "code",
   "execution_count": 13,
   "metadata": {},
   "outputs": [
    {
     "data": {
      "text/plain": [
       "{'weight': 3.1415, 'age': 18}"
      ]
     },
     "execution_count": 13,
     "metadata": {},
     "output_type": "execute_result"
    }
   ],
   "source": [
    "# 获取边的属性，是个字典，对字典进行删除还是修改操作，达到修改边的属性的目的。\n",
    "G2.get_edge_data(3,8)"
   ]
  },
  {
   "cell_type": "code",
   "execution_count": null,
   "metadata": {},
   "outputs": [],
   "source": []
  },
  {
   "cell_type": "markdown",
   "metadata": {},
   "source": [
    "### 图数学的表示"
   ]
  },
  {
   "cell_type": "markdown",
   "metadata": {},
   "source": [
    "- 邻接矩阵（Adjacency matrix）\n",
    "- 邻接列表（Adjacency list）\n",
    "- 边列表（Edge list）"
   ]
  },
  {
   "cell_type": "code",
   "execution_count": 14,
   "metadata": {},
   "outputs": [],
   "source": [
    "def print_result(out):\n",
    "    for i in out:\n",
    "        print(i)"
   ]
  },
  {
   "cell_type": "markdown",
   "metadata": {},
   "source": [
    "#### 1. 邻接矩阵（Adjacency matrix）"
   ]
  },
  {
   "cell_type": "code",
   "execution_count": 15,
   "metadata": {},
   "outputs": [
    {
     "name": "stdout",
     "output_type": "stream",
     "text": [
      "[0. 0. 0. 1. 1. 1. 0.]\n",
      "[0. 0. 1. 0. 1. 0. 0.]\n",
      "[0. 1. 0. 1. 1. 0. 1.]\n",
      "[1. 0. 1. 0. 0. 0. 0.]\n",
      "[1. 1. 1. 0. 0. 0. 0.]\n",
      "[1. 0. 0. 0. 0. 0. 1.]\n",
      "[0. 0. 1. 0. 0. 1. 0.]\n"
     ]
    }
   ],
   "source": [
    "# 邻接矩阵\n",
    "# out1 = nx.adjacency_matrix(G1).todense()\n",
    "out1 = nx.convert_matrix.to_numpy_array(G1,weight = None)  # 去除权重\n",
    "\n",
    "print_result(out1)"
   ]
  },
  {
   "cell_type": "markdown",
   "metadata": {},
   "source": [
    "#### 2. 邻接列表（Adjacency list）"
   ]
  },
  {
   "cell_type": "code",
   "execution_count": 16,
   "metadata": {},
   "outputs": [
    {
     "name": "stdout",
     "output_type": "stream",
     "text": [
      "1,4,5,7\n",
      "2,3,5\n",
      "3,5,4,8\n",
      "4\n",
      "5\n",
      "7,8\n",
      "8\n"
     ]
    }
   ],
   "source": [
    "# 查看\n",
    "out2 = nx.generate_adjlist(G1, delimiter=',')\n",
    "for line in out2:\n",
    "    print(line)"
   ]
  },
  {
   "cell_type": "code",
   "execution_count": 17,
   "metadata": {},
   "outputs": [],
   "source": [
    "# 写出\n",
    "nx.write_adjlist(G1, \"./output/test.adjlist\")  # 用记事本打开\n",
    "\n",
    "# 读入\n",
    "G1_new = nx.read_adjlist(\"./output/test.adjlist\")"
   ]
  },
  {
   "cell_type": "markdown",
   "metadata": {},
   "source": [
    "#### 3. 边列表（Edge list）"
   ]
  },
  {
   "cell_type": "code",
   "execution_count": 18,
   "metadata": {},
   "outputs": [
    {
     "name": "stdout",
     "output_type": "stream",
     "text": [
      "  (0, 3)\t1\n",
      "  (0, 4)\t1\n",
      "  (0, 5)\t1\n",
      "  (1, 2)\t1\n",
      "  (1, 4)\t1\n",
      "  (2, 1)\t1\n",
      "  (2, 3)\t1\n",
      "  (2, 4)\t1\n",
      "  (2, 6)\t1\n",
      "  (3, 0)\t1\n",
      "  (3, 2)\t1\n",
      "  (4, 0)\t1\n",
      "  (4, 1)\t1\n",
      "  (4, 2)\t1\n",
      "  (5, 0)\t1\n",
      "  (5, 6)\t1\n",
      "  (6, 2)\t1\n",
      "  (6, 5)\t1\n"
     ]
    }
   ],
   "source": [
    "# 边列表 edgelist\n",
    "out3 = nx.adj_matrix(G1,weight = None)\n",
    "print(out3)\n",
    "# 也可用转成 pandas 表\n",
    "# out3 = nx.convert_matrix.to_pandas_edgelist(G1)  # pandas dataframe 保存，读入\n",
    "# out3 = nx.convert_matrix.to_scipy_sparse_matrix(G1)"
   ]
  },
  {
   "cell_type": "code",
   "execution_count": null,
   "metadata": {},
   "outputs": [],
   "source": []
  },
  {
   "cell_type": "markdown",
   "metadata": {},
   "source": [
    "### 查看图的基本信息"
   ]
  },
  {
   "cell_type": "code",
   "execution_count": 19,
   "metadata": {},
   "outputs": [
    {
     "data": {
      "text/plain": [
       "NodeView((1, 2, 3, 4, 5, 7, 8))"
      ]
     },
     "execution_count": 19,
     "metadata": {},
     "output_type": "execute_result"
    }
   ],
   "source": [
    "# 查看节点\n",
    "G1.nodes()"
   ]
  },
  {
   "cell_type": "code",
   "execution_count": 20,
   "metadata": {},
   "outputs": [
    {
     "data": {
      "text/plain": [
       "EdgeView([(1, 4), (1, 5), (1, 7), (2, 3), (2, 5), (3, 5), (3, 4), (3, 8), (7, 8)])"
      ]
     },
     "execution_count": 20,
     "metadata": {},
     "output_type": "execute_result"
    }
   ],
   "source": [
    "# 查看节点\n",
    "G1.edges()"
   ]
  },
  {
   "cell_type": "code",
   "execution_count": 21,
   "metadata": {},
   "outputs": [
    {
     "data": {
      "text/plain": [
       "7"
      ]
     },
     "execution_count": 21,
     "metadata": {},
     "output_type": "execute_result"
    }
   ],
   "source": [
    "# 查看节点数\n",
    "G1.number_of_nodes()"
   ]
  },
  {
   "cell_type": "code",
   "execution_count": 22,
   "metadata": {},
   "outputs": [
    {
     "data": {
      "text/plain": [
       "9"
      ]
     },
     "execution_count": 22,
     "metadata": {},
     "output_type": "execute_result"
    }
   ],
   "source": [
    "# 查看边数\n",
    "G1.number_of_edges()"
   ]
  },
  {
   "cell_type": "code",
   "execution_count": 23,
   "metadata": {},
   "outputs": [
    {
     "data": {
      "text/plain": [
       "{'weight': 3.1415, 'age': 18}"
      ]
     },
     "execution_count": 23,
     "metadata": {},
     "output_type": "execute_result"
    }
   ],
   "source": [
    "# 查看边的属性和权重\n",
    "G1.get_edge_data(3,8)"
   ]
  },
  {
   "cell_type": "code",
   "execution_count": null,
   "metadata": {},
   "outputs": [],
   "source": []
  },
  {
   "cell_type": "markdown",
   "metadata": {},
   "source": [
    "#### 最后补充一个二部图 Bipartite graph"
   ]
  },
  {
   "cell_type": "code",
   "execution_count": 24,
   "metadata": {},
   "outputs": [],
   "source": [
    "# 来自官方文档的 例子\n",
    "# https://networkx.org/documentation/stable/reference/algorithms/bipartite.html\n",
    "B = nx.Graph()\n",
    "# Add nodes with the node attribute \"bipartite\"\n",
    "B.add_nodes_from([1, 2, 3, 4], bipartite=0)\n",
    "B.add_nodes_from([\"a\", \"b\", \"c\"], bipartite=1)\n",
    "# Add edges only between nodes of opposite node sets\n",
    "B.add_edges_from([(1, \"a\"), (1, \"b\"), (2, \"b\"), (2, \"c\"), (3, \"c\"), (4, \"a\")])"
   ]
  },
  {
   "cell_type": "code",
   "execution_count": 25,
   "metadata": {},
   "outputs": [
    {
     "name": "stdout",
     "output_type": "stream",
     "text": [
      "(1, 'a')\n",
      "(1, 'b')\n",
      "(2, 'b')\n",
      "(2, 'c')\n",
      "(3, 'c')\n",
      "(4, 'a')\n"
     ]
    },
    {
     "data": {
      "image/png": "[encoded data removed]",
      "text/plain": [
       "<Figure size 432x288 with 1 Axes>"
      ]
     },
     "metadata": {},
     "output_type": "display_data"
    }
   ],
   "source": [
    "plot_graph(B,bipartite=True,bipartite_nodes=[1,2,3,4])"
   ]
  },
  {
   "cell_type": "markdown",
   "metadata": {},
   "source": [
    "### 参考资料"
   ]
  },
  {
   "cell_type": "markdown",
   "metadata": {},
   "source": [
    "1. https://networkx.org/documentation/stable/\n"
   ]
  },
  {
   "cell_type": "code",
   "execution_count": null,
   "metadata": {},
   "outputs": [],
   "source": []
  }
 ],
 "metadata": {
  "kernelspec": {
   "display_name": "Python 3",
   "language": "python",
   "name": "python3"
  },
  "language_info": {
   "codemirror_mode": {
    "name": "ipython",
    "version": 3
   },
   "file_extension": ".py",
   "mimetype": "text/x-python",
   "name": "python",
   "nbconvert_exporter": "python",
   "pygments_lexer": "ipython3",
   "version": "3.7.4"
  }
 },
 "nbformat": 4,
 "nbformat_minor": 2
}
